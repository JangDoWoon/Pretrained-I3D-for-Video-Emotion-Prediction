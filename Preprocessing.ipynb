{
 "cells": [
  {
   "cell_type": "code",
   "execution_count": 1,
   "id": "677b23ff",
   "metadata": {},
   "outputs": [],
   "source": [
    "import numpy as np\n",
    "import os\n",
    "import cv2\n",
    "import os, glob\n",
    "import os.path\n",
    "image_row = 224\n",
    "image_col = 224\n",
    "frame = 32\n",
    "\n",
    "# input for 3D CNN\n",
    "def video3d(filename,image_row,image_col,frame):\n",
    "    cap = cv2.VideoCapture(filename)\n",
    "    nframe = cap.get(cv2.CAP_PROP_FRAME_COUNT)\n",
    "\n",
    "    frames = [x for x in range(frame)]\n",
    "    framearray = []\n",
    "\n",
    "    for i in range(frame):\n",
    "        cap.set(cv2.CAP_PROP_POS_FRAMES, frames[i])\n",
    "        ret, frame = cap.read()\n",
    "        frame = cv2.resize(frame, (image_row, image_col))\n",
    "        framearray.append(frame)\n",
    "    cap.release()\n",
    "    return np.array(framearray)"
   ]
  },
  {
   "cell_type": "code",
   "execution_count": 2,
   "id": "9d5be417",
   "metadata": {},
   "outputs": [],
   "source": [
    "emotion_class = ['Exciting','Fear','Neutral','Relaxation','Sad','Tension']\n",
    "X = []\n",
    "y = []\n",
    "i = 0\n",
    "# video X input과 y input 생성\n",
    "for emotion in emotion_class:\n",
    "    targerdir = r'Music_Video_Emotion_Dataset-master/' + emotion\n",
    "    files = os.listdir(targerdir)\n",
    "    for video in files:\n",
    "        file_name = targerdir+'/'+video\n",
    "        arr=video3d(file_name,image_row,image_col,frame)\n",
    "        X.append(arr)\n",
    "        y.append(i)\n",
    "    i+=1"
   ]
  },
  {
   "cell_type": "code",
   "execution_count": 3,
   "id": "d8e87231",
   "metadata": {},
   "outputs": [],
   "source": [
    "X=np.array(X)"
   ]
  },
  {
   "cell_type": "code",
   "execution_count": 4,
   "id": "5240efdc",
   "metadata": {},
   "outputs": [
    {
     "data": {
      "text/plain": [
       "(1979, 32, 112, 112, 3)"
      ]
     },
     "execution_count": 4,
     "metadata": {},
     "output_type": "execute_result"
    }
   ],
   "source": [
    "X.shape"
   ]
  },
  {
   "cell_type": "code",
   "execution_count": 5,
   "id": "0be8e44b",
   "metadata": {},
   "outputs": [],
   "source": [
    "from keras.utils import np_utils\n",
    "Y = np_utils.to_categorical(y)"
   ]
  },
  {
   "cell_type": "code",
   "execution_count": 6,
   "id": "596f1ad8",
   "metadata": {},
   "outputs": [],
   "source": [
    "np.savez('video_dataset.npz',X=X,Y=Y)"
   ]
  },
  {
   "cell_type": "code",
   "execution_count": 7,
   "id": "63ed5082",
   "metadata": {},
   "outputs": [],
   "source": [
    "saved_npz  = np.load('video_dataset.npz')"
   ]
  },
  {
   "cell_type": "code",
   "execution_count": 8,
   "id": "ddb95d4d",
   "metadata": {},
   "outputs": [],
   "source": [
    "X=saved_npz['X']"
   ]
  },
  {
   "cell_type": "code",
   "execution_count": 9,
   "id": "9f5b698e",
   "metadata": {},
   "outputs": [],
   "source": [
    "y = saved_npz['Y']"
   ]
  },
  {
   "cell_type": "code",
   "execution_count": 10,
   "id": "10841f56",
   "metadata": {},
   "outputs": [],
   "source": [
    "from sklearn.model_selection import train_test_split\n",
    "\n",
    "X_train, X_test, y_train, y_test = train_test_split(X,Y,test_size=0.2, shuffle=True, random_state=1004)"
   ]
  },
  {
   "cell_type": "code",
   "execution_count": 12,
   "id": "2a98f13d",
   "metadata": {},
   "outputs": [],
   "source": [
    "np.savez('c3d_video_dataset_train.npz',X=X_train,Y=y_train)\n",
    "np.savez('c3d_video_dataset_test.npz',X=X_test,Y=y_test)"
   ]
  },
  {
   "cell_type": "code",
   "execution_count": null,
   "id": "8327266e",
   "metadata": {},
   "outputs": [],
   "source": []
  }
 ],
 "metadata": {
  "kernelspec": {
   "display_name": "Python 3",
   "language": "python",
   "name": "python3"
  },
  "language_info": {
   "codemirror_mode": {
    "name": "ipython",
    "version": 3
   },
   "file_extension": ".py",
   "mimetype": "text/x-python",
   "name": "python",
   "nbconvert_exporter": "python",
   "pygments_lexer": "ipython3",
   "version": "3.8.8"
  }
 },
 "nbformat": 4,
 "nbformat_minor": 5
}
