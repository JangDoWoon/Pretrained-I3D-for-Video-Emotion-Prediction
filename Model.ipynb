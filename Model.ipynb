{
 "cells": [
  {
   "cell_type": "code",
   "execution_count": null,
   "id": "31a5573f",
   "metadata": {
    "id": "3b56f5aa"
   },
   "outputs": [],
   "source": [
    "import warnings\n",
    "\n",
    "import numpy as np\n",
    "import os\n",
    "import keras\n",
    "from keras.models import Model\n",
    "from keras import layers\n",
    "from keras.layers import Activation\n",
    "from keras.layers import Dense\n",
    "from keras.layers import Input\n",
    "from keras.layers import BatchNormalization\n",
    "from keras.layers import Conv3D\n",
    "from keras.layers import MaxPooling3D\n",
    "from keras.layers import AveragePooling3D\n",
    "from keras.layers import Dropout\n",
    "from keras.layers import Reshape\n",
    "from keras.layers import Lambda\n",
    "from keras.layers import GlobalAveragePooling3D,Flatten\n",
    "from keras.models import Sequential\n",
    "from keras.engine.topology import get_source_inputs\n",
    "from keras.utils import layer_utils\n",
    "from keras.utils.data_utils import get_file\n",
    "from keras import backend as K\n",
    "import tensorflow as tf\n",
    "import matplotlib.pyplot as plt"
   ]
  },
  {
   "cell_type": "code",
   "execution_count": null,
   "id": "30d7d6f5",
   "metadata": {
    "id": "cRR1veAhQgGb"
   },
   "outputs": [],
   "source": [
    "# 그림 그리기\n",
    "def plot_training_loss(H):\n",
    "    plt.style.use(\"ggplot\")\n",
    "    plt.figure()\n",
    "    plt.plot(H.history[\"loss\"], label=\"train_loss\")\n",
    "    plt.plot(H.history[\"val_loss\"], label=\"val_loss\")\n",
    "    plt.title(\"Training Loss\")\n",
    "    plt.xlabel(\"Epoch #\")\n",
    "    plt.ylabel(\"Loss\")\n",
    "    plt.legend(loc=\"lower left\")"
   ]
  },
  {
   "cell_type": "code",
   "execution_count": null,
   "id": "41db926d",
   "metadata": {
    "id": "jXRkjarLQxOc"
   },
   "outputs": [],
   "source": [
    "# 그림 그리기\n",
    "def plot_training_acc(H):\n",
    "    plt.style.use(\"ggplot\")\n",
    "    plt.figure()\n",
    "    plt.plot(H.history[\"accuracy\"], label=\"train_acc\")\n",
    "    plt.plot(H.history[\"val_accuracy\"], label=\"val_acc\")\n",
    "    plt.title(\"Training acc\")\n",
    "    plt.xlabel(\"Epoch #\")\n",
    "    plt.ylabel(\"acc\")\n",
    "    plt.legend(loc=\"lower left\")"
   ]
  },
  {
   "cell_type": "markdown",
   "id": "f4e80cbc",
   "metadata": {},
   "source": [
    "# Pre trained I3D"
   ]
  },
  {
   "cell_type": "code",
   "execution_count": null,
   "id": "587e7d4b",
   "metadata": {
    "id": "25458750"
   },
   "outputs": [],
   "source": [
    "WEIGHTS_NAME = ['rgb_kinetics_only', 'flow_kinetics_only', 'rgb_imagenet_and_kinetics', 'flow_imagenet_and_kinetics']"
   ]
  },
  {
   "cell_type": "code",
   "execution_count": null,
   "id": "63478343",
   "metadata": {
    "id": "8404941b"
   },
   "outputs": [],
   "source": [
    "# path to pretrained models with top (classification layer)\n",
    "WEIGHTS_PATH = {\n",
    "    'rgb_kinetics_only' : 'https://github.com/dlpbc/keras-kinetics-i3d/releases/download/v0.2/rgb_inception_i3d_kinetics_only_tf_dim_ordering_tf_kernels.h5',\n",
    "    'flow_kinetics_only' : 'https://github.com/dlpbc/keras-kinetics-i3d/releases/download/v0.2/flow_inception_i3d_kinetics_only_tf_dim_ordering_tf_kernels.h5',\n",
    "    'rgb_imagenet_and_kinetics' : 'https://github.com/dlpbc/keras-kinetics-i3d/releases/download/v0.2/rgb_inception_i3d_imagenet_and_kinetics_tf_dim_ordering_tf_kernels.h5',\n",
    "    'flow_imagenet_and_kinetics' : 'https://github.com/dlpbc/keras-kinetics-i3d/releases/download/v0.2/flow_inception_i3d_imagenet_and_kinetics_tf_dim_ordering_tf_kernels.h5'\n",
    "}\n",
    "\n",
    "# path to pretrained models with no top (no classification layer)\n",
    "WEIGHTS_PATH_NO_TOP = {\n",
    "    'rgb_kinetics_only' : 'https://github.com/dlpbc/keras-kinetics-i3d/releases/download/v0.2/rgb_inception_i3d_kinetics_only_tf_dim_ordering_tf_kernels_no_top.h5',\n",
    "    'flow_kinetics_only' : 'https://github.com/dlpbc/keras-kinetics-i3d/releases/download/v0.2/flow_inception_i3d_kinetics_only_tf_dim_ordering_tf_kernels_no_top.h5',\n",
    "    'rgb_imagenet_and_kinetics' : 'https://github.com/dlpbc/keras-kinetics-i3d/releases/download/v0.2/rgb_inception_i3d_imagenet_and_kinetics_tf_dim_ordering_tf_kernels_no_top.h5',\n",
    "    'flow_imagenet_and_kinetics' : 'https://github.com/dlpbc/keras-kinetics-i3d/releases/download/v0.2/flow_inception_i3d_imagenet_and_kinetics_tf_dim_ordering_tf_kernels_no_top.h5'\n",
    "}\n"
   ]
  },
  {
   "cell_type": "code",
   "execution_count": null,
   "id": "41a5f391",
   "metadata": {
    "id": "0f8aa4b4"
   },
   "outputs": [],
   "source": [
    "def _obtain_input_shape(input_shape,\n",
    "                        default_frame_size,\n",
    "                        min_frame_size,\n",
    "                        default_num_frames,\n",
    "                        min_num_frames,\n",
    "                        data_format,\n",
    "                        require_flatten,\n",
    "                        weights=None):\n",
    "\n",
    "    if weights != 'kinetics_only' and weights != 'imagenet_and_kinetics' and input_shape and len(input_shape) == 4:\n",
    "        if data_format == 'channels_first':\n",
    "            if input_shape[0] not in {1, 3}:\n",
    "                warnings.warn(\n",
    "                    'This model usually expects 1 or 3 input channels. '\n",
    "                    'However, it was passed an input_shape with ' +\n",
    "                    str(input_shape[0]) + ' input channels.')\n",
    "            default_shape = (input_shape[0], default_num_frames, default_frame_size, default_frame_size)\n",
    "        else:\n",
    "            if input_shape[-1] not in {1, 3}:\n",
    "                warnings.warn(\n",
    "                    'This model usually expects 1 or 3 input channels. '\n",
    "                    'However, it was passed an input_shape with ' +\n",
    "                    str(input_shape[-1]) + ' input channels.')\n",
    "            default_shape = (default_num_frames, default_frame_size, default_frame_size, input_shape[-1])\n",
    "    else:\n",
    "        if data_format == 'channels_first':\n",
    "            default_shape = (3, default_num_frames, default_frame_size, default_frame_size)\n",
    "        else:\n",
    "            default_shape = (default_num_frames, default_frame_size, default_frame_size, 3)\n",
    "    if (weights == 'kinetics_only' or weights == 'imagenet_and_kinetics') and require_flatten:\n",
    "        if input_shape is not None:\n",
    "            if input_shape != default_shape:\n",
    "                raise ValueError('When setting`include_top=True` '\n",
    "                                 'and loading `imagenet` weights, '\n",
    "                                 '`input_shape` should be ' +\n",
    "                                 str(default_shape) + '.')\n",
    "        return default_shape\n",
    "\n",
    "    if input_shape:\n",
    "        if data_format == 'channels_first':\n",
    "            if input_shape is not None:\n",
    "                if len(input_shape) != 4:\n",
    "                    raise ValueError(\n",
    "                        '`input_shape` must be a tuple of four integers.')\n",
    "                if input_shape[0] != 3 and (weights == 'kinetics_only' or weights == 'imagenet_and_kinetics'):\n",
    "                    raise ValueError('The input must have 3 channels; got '\n",
    "                                     '`input_shape=' + str(input_shape) + '`')\n",
    "\n",
    "                if input_shape[1] is not None and input_shape[1] < min_num_frames:\n",
    "                    raise ValueError('Input number of frames must be at least ' +\n",
    "                                     str(min_num_frames) + '; got '\n",
    "                                     '`input_shape=' + str(input_shape) + '`')\n",
    "\n",
    "                if ((input_shape[2] is not None and input_shape[2] < min_frame_size) or\n",
    "                   (input_shape[3] is not None and input_shape[3] < min_frame_size)):\n",
    "                    raise ValueError('Input size must be at least ' +\n",
    "                                     str(min_frame_size) + 'x' + str(min_frame_size) + '; got '\n",
    "                                     '`input_shape=' + str(input_shape) + '`')\n",
    "        else:\n",
    "            if input_shape is not None:\n",
    "                if len(input_shape) != 4:\n",
    "                    raise ValueError(\n",
    "                        '`input_shape` must be a tuple of four integers.')\n",
    "                if input_shape[-1] != 3 and (weights == 'kinetics_only' or weights == 'imagenet_and_kinetics'):\n",
    "                    raise ValueError('The input must have 3 channels; got '\n",
    "                                     '`input_shape=' + str(input_shape) + '`')\n",
    "\n",
    "                if input_shape[0] is not None and input_shape[0] < min_num_frames:\n",
    "                    raise ValueError('Input number of frames must be at least ' +\n",
    "                                     str(min_num_frames) + '; got '\n",
    "                                     '`input_shape=' + str(input_shape) + '`')\n",
    "\n",
    "                if ((input_shape[1] is not None and input_shape[1] < min_frame_size) or\n",
    "                   (input_shape[2] is not None and input_shape[2] < min_frame_size)):\n",
    "                    raise ValueError('Input size must be at least ' +\n",
    "                                     str(min_frame_size) + 'x' + str(min_frame_size) + '; got '\n",
    "                                     '`input_shape=' + str(input_shape) + '`')\n",
    "    else:\n",
    "        if require_flatten:\n",
    "            input_shape = default_shape\n",
    "        else:\n",
    "            if data_format == 'channels_first':\n",
    "                input_shape = (3, None, None, None)\n",
    "            else:\n",
    "                input_shape = (None, None, None, 3)\n",
    "    if require_flatten:\n",
    "        if None in input_shape:\n",
    "            raise ValueError('If `include_top` is True, '\n",
    "                             'you should specify a static `input_shape`. '\n",
    "                             'Got `input_shape=' + str(input_shape) + '`')\n",
    "    return input_shape"
   ]
  },
  {
   "cell_type": "code",
   "execution_count": null,
   "id": "513f2d18",
   "metadata": {
    "id": "281cddca"
   },
   "outputs": [],
   "source": [
    "def conv3d_bn(x,\n",
    "              filters,\n",
    "              num_frames,\n",
    "              num_row,\n",
    "              num_col,\n",
    "              padding='same',\n",
    "              strides=(1, 1, 1),\n",
    "              use_bias = False,\n",
    "              use_activation_fn = True,\n",
    "              use_bn = True,\n",
    "              name=None):\n",
    "\n",
    "    if name is not None:\n",
    "        bn_name = name + '_bn'\n",
    "        conv_name = name + '_conv'\n",
    "    else:\n",
    "        bn_name = None\n",
    "        conv_name = None\n",
    "\n",
    "    x = Conv3D(\n",
    "        filters, (num_frames, num_row, num_col),\n",
    "        strides=strides,\n",
    "        padding=padding,\n",
    "        use_bias=use_bias,\n",
    "        name=conv_name)(x)\n",
    "\n",
    "    if use_bn:\n",
    "        if K.image_data_format() == 'channels_first':\n",
    "            bn_axis = 1\n",
    "        else:\n",
    "            bn_axis = 4\n",
    "        x = BatchNormalization(axis=bn_axis, scale=False, name=bn_name)(x)\n",
    "\n",
    "    if use_activation_fn:\n",
    "        x = Activation('relu', name=name)(x)\n",
    "\n",
    "    return x"
   ]
  },
  {
   "cell_type": "code",
   "execution_count": null,
   "id": "0a5be8a7",
   "metadata": {
    "id": "dd3499db"
   },
   "outputs": [],
   "source": [
    "def Inception_Inflated3d(include_top=True,\n",
    "                weights=None,\n",
    "                input_tensor=None,\n",
    "                input_shape=None,\n",
    "                dropout_prob=0.0,\n",
    "                endpoint_logit=True,\n",
    "                classes=400):\n",
    "    if not (weights in WEIGHTS_NAME or weights is None or os.path.exists(weights)):\n",
    "        raise ValueError('The `weights` argument should be either '\n",
    "                         '`None` (random initialization) or %s' % \n",
    "                         str(WEIGHTS_NAME) + ' ' \n",
    "                         'or a valid path to a file containing `weights` values')\n",
    "\n",
    "    if weights in WEIGHTS_NAME and include_top and classes != 400:\n",
    "        raise ValueError('If using `weights` as one of these %s, with `include_top`'\n",
    "                         ' as true, `classes` should be 400' % str(WEIGHTS_NAME))\n",
    "\n",
    "    # Determine proper input shape\n",
    "    input_shape = _obtain_input_shape(\n",
    "        input_shape,\n",
    "        default_frame_size=224, \n",
    "        min_frame_size=80, \n",
    "        default_num_frames=32,\n",
    "        min_num_frames=32,\n",
    "        data_format=K.image_data_format(),\n",
    "        require_flatten=include_top,\n",
    "        weights=weights)\n",
    "\n",
    "    if input_tensor is None:\n",
    "        img_input = Input(shape=input_shape)\n",
    "    else:\n",
    "        if not K.is_keras_tensor(input_tensor):\n",
    "            img_input = Input(tensor=input_tensor, shape=input_shape)\n",
    "        else:\n",
    "            img_input = input_tensor\n",
    "\n",
    "    if K.image_data_format() == 'channels_first':\n",
    "        channel_axis = 1\n",
    "    else:\n",
    "        channel_axis = 4\n",
    "\n",
    "    # Downsampling via convolution (spatial and temporal)\n",
    "    x = conv3d_bn(img_input, 64, 7, 7, 7, strides=(2, 2, 2), padding='same', name='Conv3d_1a_7x7')\n",
    "\n",
    "    # Downsampling (spatial only)\n",
    "    x = MaxPooling3D((1, 3, 3), strides=(1, 2, 2), padding='same', name='MaxPool2d_2a_3x3')(x)\n",
    "    x = conv3d_bn(x, 64, 1, 1, 1, strides=(1, 1, 1), padding='same', name='Conv3d_2b_1x1')\n",
    "    x = conv3d_bn(x, 192, 3, 3, 3, strides=(1, 1, 1), padding='same', name='Conv3d_2c_3x3')\n",
    "\n",
    "    # Downsampling (spatial only)\n",
    "    x = MaxPooling3D((1, 3, 3), strides=(1, 2, 2), padding='same', name='MaxPool2d_3a_3x3')(x)\n",
    "\n",
    "    # Mixed 3b\n",
    "    branch_0 = conv3d_bn(x, 64, 1, 1, 1, padding='same', name='Conv3d_3b_0a_1x1')\n",
    "\n",
    "    branch_1 = conv3d_bn(x, 96, 1, 1, 1, padding='same', name='Conv3d_3b_1a_1x1')\n",
    "    branch_1 = conv3d_bn(branch_1, 128, 3, 3, 3, padding='same', name='Conv3d_3b_1b_3x3')\n",
    "\n",
    "    branch_2 = conv3d_bn(x, 16, 1, 1, 1, padding='same', name='Conv3d_3b_2a_1x1')\n",
    "    branch_2 = conv3d_bn(branch_2, 32, 3, 3, 3, padding='same', name='Conv3d_3b_2b_3x3')\n",
    "\n",
    "    branch_3 = MaxPooling3D((3, 3, 3), strides=(1, 1, 1), padding='same', name='MaxPool2d_3b_3a_3x3')(x)\n",
    "    branch_3 = conv3d_bn(branch_3, 32, 1, 1, 1, padding='same', name='Conv3d_3b_3b_1x1')\n",
    "\n",
    "    x = layers.concatenate(\n",
    "        [branch_0, branch_1, branch_2, branch_3],\n",
    "        axis=channel_axis,\n",
    "        name='Mixed_3b')\n",
    "\n",
    "    # Mixed 3c\n",
    "    branch_0 = conv3d_bn(x, 128, 1, 1, 1, padding='same', name='Conv3d_3c_0a_1x1')\n",
    "\n",
    "    branch_1 = conv3d_bn(x, 128, 1, 1, 1, padding='same', name='Conv3d_3c_1a_1x1')\n",
    "    branch_1 = conv3d_bn(branch_1, 192, 3, 3, 3, padding='same', name='Conv3d_3c_1b_3x3')\n",
    "\n",
    "    branch_2 = conv3d_bn(x, 32, 1, 1, 1, padding='same', name='Conv3d_3c_2a_1x1')\n",
    "    branch_2 = conv3d_bn(branch_2, 96, 3, 3, 3, padding='same', name='Conv3d_3c_2b_3x3')\n",
    "\n",
    "    branch_3 = MaxPooling3D((3, 3, 3), strides=(1, 1, 1), padding='same', name='MaxPool2d_3c_3a_3x3')(x)\n",
    "    branch_3 = conv3d_bn(branch_3, 64, 1, 1, 1, padding='same', name='Conv3d_3c_3b_1x1')\n",
    "\n",
    "    x = layers.concatenate(\n",
    "        [branch_0, branch_1, branch_2, branch_3],\n",
    "        axis=channel_axis,\n",
    "        name='Mixed_3c')\n",
    "\n",
    "\n",
    "    # Downsampling (spatial and temporal)\n",
    "    x = MaxPooling3D((3, 3, 3), strides=(2, 2, 2), padding='same', name='MaxPool2d_4a_3x3')(x)\n",
    "\n",
    "    # Mixed 4b\n",
    "    branch_0 = conv3d_bn(x, 192, 1, 1, 1, padding='same', name='Conv3d_4b_0a_1x1')\n",
    "\n",
    "    branch_1 = conv3d_bn(x, 96, 1, 1, 1, padding='same', name='Conv3d_4b_1a_1x1')\n",
    "    branch_1 = conv3d_bn(branch_1, 208, 3, 3, 3, padding='same', name='Conv3d_4b_1b_3x3')\n",
    "\n",
    "    branch_2 = conv3d_bn(x, 16, 1, 1, 1, padding='same', name='Conv3d_4b_2a_1x1')\n",
    "    branch_2 = conv3d_bn(branch_2, 48, 3, 3, 3, padding='same', name='Conv3d_4b_2b_3x3')\n",
    "\n",
    "    branch_3 = MaxPooling3D((3, 3, 3), strides=(1, 1, 1), padding='same', name='MaxPool2d_4b_3a_3x3')(x)\n",
    "    branch_3 = conv3d_bn(branch_3, 64, 1, 1, 1, padding='same', name='Conv3d_4b_3b_1x1')\n",
    "\n",
    "    x = layers.concatenate(\n",
    "        [branch_0, branch_1, branch_2, branch_3],\n",
    "        axis=channel_axis,\n",
    "        name='Mixed_4b')\n",
    "\n",
    "    # Mixed 4c\n",
    "    branch_0 = conv3d_bn(x, 160, 1, 1, 1, padding='same', name='Conv3d_4c_0a_1x1')\n",
    "\n",
    "    branch_1 = conv3d_bn(x, 112, 1, 1, 1, padding='same', name='Conv3d_4c_1a_1x1')\n",
    "    branch_1 = conv3d_bn(branch_1, 224, 3, 3, 3, padding='same', name='Conv3d_4c_1b_3x3')\n",
    "\n",
    "    branch_2 = conv3d_bn(x, 24, 1, 1, 1, padding='same', name='Conv3d_4c_2a_1x1')\n",
    "    branch_2 = conv3d_bn(branch_2, 64, 3, 3, 3, padding='same', name='Conv3d_4c_2b_3x3')\n",
    "\n",
    "    branch_3 = MaxPooling3D((3, 3, 3), strides=(1, 1, 1), padding='same', name='MaxPool2d_4c_3a_3x3')(x)\n",
    "    branch_3 = conv3d_bn(branch_3, 64, 1, 1, 1, padding='same', name='Conv3d_4c_3b_1x1')\n",
    "\n",
    "    x = layers.concatenate(\n",
    "        [branch_0, branch_1, branch_2, branch_3],\n",
    "        axis=channel_axis,\n",
    "        name='Mixed_4c')\n",
    "\n",
    "    # Mixed 4d\n",
    "    branch_0 = conv3d_bn(x, 128, 1, 1, 1, padding='same', name='Conv3d_4d_0a_1x1')\n",
    "\n",
    "    branch_1 = conv3d_bn(x, 128, 1, 1, 1, padding='same', name='Conv3d_4d_1a_1x1')\n",
    "    branch_1 = conv3d_bn(branch_1, 256, 3, 3, 3, padding='same', name='Conv3d_4d_1b_3x3')\n",
    "\n",
    "    branch_2 = conv3d_bn(x, 24, 1, 1, 1, padding='same', name='Conv3d_4d_2a_1x1')\n",
    "    branch_2 = conv3d_bn(branch_2, 64, 3, 3, 3, padding='same', name='Conv3d_4d_2b_3x3')\n",
    "\n",
    "    branch_3 = MaxPooling3D((3, 3, 3), strides=(1, 1, 1), padding='same', name='MaxPool2d_4d_3a_3x3')(x)\n",
    "    branch_3 = conv3d_bn(branch_3, 64, 1, 1, 1, padding='same', name='Conv3d_4d_3b_1x1')\n",
    "\n",
    "    x = layers.concatenate(\n",
    "        [branch_0, branch_1, branch_2, branch_3],\n",
    "        axis=channel_axis,\n",
    "        name='Mixed_4d')\n",
    "\n",
    "    # Mixed 4e\n",
    "    branch_0 = conv3d_bn(x, 112, 1, 1, 1, padding='same', name='Conv3d_4e_0a_1x1')\n",
    "\n",
    "    branch_1 = conv3d_bn(x, 144, 1, 1, 1, padding='same', name='Conv3d_4e_1a_1x1')\n",
    "    branch_1 = conv3d_bn(branch_1, 288, 3, 3, 3, padding='same', name='Conv3d_4e_1b_3x3')\n",
    "\n",
    "    branch_2 = conv3d_bn(x, 32, 1, 1, 1, padding='same', name='Conv3d_4e_2a_1x1')\n",
    "    branch_2 = conv3d_bn(branch_2, 64, 3, 3, 3, padding='same', name='Conv3d_4e_2b_3x3')\n",
    "\n",
    "    branch_3 = MaxPooling3D((3, 3, 3), strides=(1, 1, 1), padding='same', name='MaxPool2d_4e_3a_3x3')(x)\n",
    "    branch_3 = conv3d_bn(branch_3, 64, 1, 1, 1, padding='same', name='Conv3d_4e_3b_1x1')\n",
    "\n",
    "    x = layers.concatenate(\n",
    "        [branch_0, branch_1, branch_2, branch_3],\n",
    "        axis=channel_axis,\n",
    "        name='Mixed_4e')\n",
    "\n",
    "    # Mixed 4f\n",
    "    branch_0 = conv3d_bn(x, 256, 1, 1, 1, padding='same', name='Conv3d_4f_0a_1x1')\n",
    "\n",
    "    branch_1 = conv3d_bn(x, 160, 1, 1, 1, padding='same', name='Conv3d_4f_1a_1x1')\n",
    "    branch_1 = conv3d_bn(branch_1, 320, 3, 3, 3, padding='same', name='Conv3d_4f_1b_3x3')\n",
    "\n",
    "    branch_2 = conv3d_bn(x, 32, 1, 1, 1, padding='same', name='Conv3d_4f_2a_1x1')\n",
    "    branch_2 = conv3d_bn(branch_2, 128, 3, 3, 3, padding='same', name='Conv3d_4f_2b_3x3')\n",
    "\n",
    "    branch_3 = MaxPooling3D((3, 3, 3), strides=(1, 1, 1), padding='same', name='MaxPool2d_4f_3a_3x3')(x)\n",
    "    branch_3 = conv3d_bn(branch_3, 128, 1, 1, 1, padding='same', name='Conv3d_4f_3b_1x1')\n",
    "\n",
    "    x = layers.concatenate(\n",
    "        [branch_0, branch_1, branch_2, branch_3],\n",
    "        axis=channel_axis,\n",
    "        name='Mixed_4f')\n",
    "\n",
    "\n",
    "    # Downsampling (spatial and temporal)\n",
    "    x = MaxPooling3D((2, 2, 2), strides=(2, 2, 2), padding='same', name='MaxPool2d_5a_2x2')(x)\n",
    "\n",
    "    # Mixed 5b\n",
    "    branch_0 = conv3d_bn(x, 256, 1, 1, 1, padding='same', name='Conv3d_5b_0a_1x1')\n",
    "\n",
    "    branch_1 = conv3d_bn(x, 160, 1, 1, 1, padding='same', name='Conv3d_5b_1a_1x1')\n",
    "    branch_1 = conv3d_bn(branch_1, 320, 3, 3, 3, padding='same', name='Conv3d_5b_1b_3x3')\n",
    "\n",
    "    branch_2 = conv3d_bn(x, 32, 1, 1, 1, padding='same', name='Conv3d_5b_2a_1x1')\n",
    "    branch_2 = conv3d_bn(branch_2, 128, 3, 3, 3, padding='same', name='Conv3d_5b_2b_3x3')\n",
    "\n",
    "    branch_3 = MaxPooling3D((3, 3, 3), strides=(1, 1, 1), padding='same', name='MaxPool2d_5b_3a_3x3')(x)\n",
    "    branch_3 = conv3d_bn(branch_3, 128, 1, 1, 1, padding='same', name='Conv3d_5b_3b_1x1')\n",
    "\n",
    "    x = layers.concatenate(\n",
    "        [branch_0, branch_1, branch_2, branch_3],\n",
    "        axis=channel_axis,\n",
    "        name='Mixed_5b')\n",
    "\n",
    "    # Mixed 5c\n",
    "    branch_0 = conv3d_bn(x, 384, 1, 1, 1, padding='same', name='Conv3d_5c_0a_1x1')\n",
    "\n",
    "    branch_1 = conv3d_bn(x, 192, 1, 1, 1, padding='same', name='Conv3d_5c_1a_1x1')\n",
    "    branch_1 = conv3d_bn(branch_1, 384, 3, 3, 3, padding='same', name='Conv3d_5c_1b_3x3')\n",
    "\n",
    "    branch_2 = conv3d_bn(x, 48, 1, 1, 1, padding='same', name='Conv3d_5c_2a_1x1')\n",
    "    branch_2 = conv3d_bn(branch_2, 128, 3, 3, 3, padding='same', name='Conv3d_5c_2b_3x3')\n",
    "\n",
    "    branch_3 = MaxPooling3D((3, 3, 3), strides=(1, 1, 1), padding='same', name='MaxPool2d_5c_3a_3x3')(x)\n",
    "    branch_3 = conv3d_bn(branch_3, 128, 1, 1, 1, padding='same', name='Conv3d_5c_3b_1x1')\n",
    "\n",
    "    x = layers.concatenate(\n",
    "        [branch_0, branch_1, branch_2, branch_3],\n",
    "        axis=channel_axis,\n",
    "        name='Mixed_5c')\n",
    "\n",
    "    if include_top:\n",
    "        # Classification block\n",
    "        x = AveragePooling3D((2, 7, 7), strides=(1, 1, 1), padding='valid', name='global_avg_pool')(x)\n",
    "        x = Dropout(dropout_prob)(x)\n",
    "\n",
    "        x = conv3d_bn(x, classes, 1, 1, 1, padding='same', \n",
    "                use_bias=True, use_activation_fn=False, use_bn=False, name='Conv3d_6a_1x1')\n",
    " \n",
    "        num_frames_remaining = int(x.shape[1])\n",
    "        x = Reshape((num_frames_remaining, classes))(x)\n",
    "\n",
    "        # logits (raw scores for each class)\n",
    "        x = Lambda(lambda x: K.mean(x, axis=1, keepdims=False),\n",
    "                   output_shape=lambda s: (s[0], s[2]))(x)\n",
    "\n",
    "        if not endpoint_logit:\n",
    "            x = Activation('softmax', name='prediction')(x)\n",
    "    else:\n",
    "        h = int(x.shape[2])\n",
    "        w = int(x.shape[3])\n",
    "        x = AveragePooling3D((2, h, w), strides=(1, 1, 1), padding='valid', name='global_avg_pool')(x)\n",
    "\n",
    "\n",
    "\n",
    "    inputs = img_input\n",
    "    # create model\n",
    "    model = Model(inputs, x, name='i3d_inception')\n",
    "\n",
    "    # load weights\n",
    "    if weights in WEIGHTS_NAME:\n",
    "        if weights == WEIGHTS_NAME[0]:   # rgb_kinetics_only\n",
    "            if include_top:\n",
    "                weights_url = WEIGHTS_PATH['rgb_kinetics_only']\n",
    "                model_name = 'i3d_inception_rgb_kinetics_only.h5'\n",
    "            else:\n",
    "                weights_url = WEIGHTS_PATH_NO_TOP['rgb_kinetics_only']\n",
    "                model_name = 'i3d_inception_rgb_kinetics_only_no_top.h5'\n",
    "\n",
    "        elif weights == WEIGHTS_NAME[1]: # flow_kinetics_only\n",
    "            if include_top:\n",
    "                weights_url = WEIGHTS_PATH['flow_kinetics_only']\n",
    "                model_name = 'i3d_inception_flow_kinetics_only.h5'\n",
    "            else:\n",
    "                weights_url = WEIGHTS_PATH_NO_TOP['flow_kinetics_only']\n",
    "                model_name = 'i3d_inception_flow_kinetics_only_no_top.h5'\n",
    "\n",
    "        elif weights == WEIGHTS_NAME[2]: # rgb_imagenet_and_kinetics\n",
    "            if include_top:\n",
    "                weights_url = WEIGHTS_PATH['rgb_imagenet_and_kinetics']\n",
    "                model_name = 'i3d_inception_rgb_imagenet_and_kinetics.h5'\n",
    "            else:\n",
    "                weights_url = WEIGHTS_PATH_NO_TOP['rgb_imagenet_and_kinetics']\n",
    "                model_name = 'i3d_inception_rgb_imagenet_and_kinetics_no_top.h5'\n",
    "\n",
    "        elif weights == WEIGHTS_NAME[3]: # flow_imagenet_and_kinetics\n",
    "            if include_top:\n",
    "                weights_url = WEIGHTS_PATH['flow_imagenet_and_kinetics']\n",
    "                model_name = 'i3d_inception_flow_imagenet_and_kinetics.h5'\n",
    "            else:\n",
    "                weights_url = WEIGHTS_PATH_NO_TOP['flow_imagenet_and_kinetics']\n",
    "                model_name = 'i3d_inception_flow_imagenet_and_kinetics_no_top.h5'\n",
    "\n",
    "        downloaded_weights_path = get_file(model_name, weights_url, cache_subdir='models')\n",
    "        model.load_weights(downloaded_weights_path)\n",
    "\n",
    "        if K.backend() == 'theano':\n",
    "            layer_utils.convert_all_kernels_in_model(model)\n",
    "\n",
    "        if K.image_data_format() == 'channels_first' and K.backend() == 'tensorflow':\n",
    "            warnings.warn('You are using the TensorFlow backend, yet you '\n",
    "                          'are using the Theano '\n",
    "                          'image data format convention '\n",
    "                          '(`image_data_format=\"channels_first\"`). '\n",
    "                          'For best performance, set '\n",
    "                          '`image_data_format=\"channels_last\"` in '\n",
    "                          'your keras config '\n",
    "                          'at ~/.keras/keras.json.')\n",
    "\n",
    "    elif weights is not None:\n",
    "        model.load_weights(weights)\n",
    "\n",
    "    return model"
   ]
  },
  {
   "cell_type": "code",
   "execution_count": null,
   "id": "0337e860",
   "metadata": {
    "id": "c1aced94"
   },
   "outputs": [],
   "source": [
    "model=Inception_Inflated3d(include_top=False,\n",
    "                weights='rgb_imagenet_and_kinetics',\n",
    "                input_tensor=None,\n",
    "                input_shape=(32,224,224,3),\n",
    "                dropout_prob=0.3,\n",
    "                endpoint_logit=True,\n",
    "                classes=6)"
   ]
  },
  {
   "cell_type": "code",
   "execution_count": null,
   "id": "d83c335a",
   "metadata": {
    "id": "JzyRfBK1esRf"
   },
   "outputs": [],
   "source": [
    "model.summary()"
   ]
  },
  {
   "cell_type": "code",
   "execution_count": null,
   "id": "02ceff96",
   "metadata": {
    "id": "873a95f0"
   },
   "outputs": [],
   "source": [
    "trasfer_model = Sequential()\n",
    "trasfer_model.add(model)\n",
    "trasfer_model.add(Flatten())\n",
    "trasfer_model.add(Dropout(0.3))\n",
    "trasfer_model.add(Dense(6,activation = 'softmax'))"
   ]
  },
  {
   "cell_type": "code",
   "execution_count": null,
   "id": "ce922f4b",
   "metadata": {
    "id": "0WIJZNbodWrm"
   },
   "outputs": [],
   "source": [
    "trasfer_model.summary()"
   ]
  },
  {
   "cell_type": "code",
   "execution_count": null,
   "id": "831f7bac",
   "metadata": {
    "id": "WUAl8iipkd6b"
   },
   "outputs": [],
   "source": []
  },
  {
   "cell_type": "code",
   "execution_count": null,
   "id": "c54910fa",
   "metadata": {
    "id": "b20957f3"
   },
   "outputs": [],
   "source": [
    "import numpy as np\n",
    "saved_npz_train  = np.load('video_dataset_train.npz')\n",
    "saved_npz_test  = np.load('video_dataset_test.npz')"
   ]
  },
  {
   "cell_type": "code",
   "execution_count": null,
   "id": "e8fb82d7",
   "metadata": {
    "id": "351c8a78"
   },
   "outputs": [],
   "source": [
    "X_train=saved_npz_train['X']\n",
    "y_train = saved_npz_train['Y']\n",
    "X_test=saved_npz_test['X']\n",
    "y_test = saved_npz_test['Y']"
   ]
  },
  {
   "cell_type": "code",
   "execution_count": null,
   "id": "37e6ff5e",
   "metadata": {
    "id": "jEBTIz78I67C"
   },
   "outputs": [],
   "source": [
    "saved_npz_train.close()\n",
    "saved_npz_test.close()"
   ]
  },
  {
   "cell_type": "code",
   "execution_count": null,
   "id": "43dafbf1",
   "metadata": {
    "id": "00590421"
   },
   "outputs": [],
   "source": [
    "X_train=X_train.astype('float16')\n",
    "X_train=X_train/255.0\n",
    "X_test=X_test.astype('float16')\n",
    "X_test=X_test/255.0"
   ]
  },
  {
   "cell_type": "code",
   "execution_count": null,
   "id": "96e175ea",
   "metadata": {
    "id": "1d3824f6"
   },
   "outputs": [],
   "source": [
    "opt = keras.optimizers.Adam(learning_rate = 0.00001)\n",
    "trasfer_model.compile(loss='categorical_crossentropy', optimizer=opt,metrics=['accuracy'])"
   ]
  },
  {
   "cell_type": "code",
   "execution_count": null,
   "id": "0e9fb50e",
   "metadata": {
    "colab": {
     "base_uri": "https://localhost:8080/"
    },
    "id": "9fbb2720",
    "outputId": "6b6d898f-2298-4936-d731-69e548ba8e33"
   },
   "outputs": [
    {
     "name": "stdout",
     "output_type": "stream",
     "text": [
      "Epoch 1/30\n",
      "198/198 [==============================] - 69s 336ms/step - loss: 1.3918 - accuracy: 0.5218 - val_loss: 1.4112 - val_accuracy: 0.5328\n",
      "Epoch 2/30\n",
      "198/198 [==============================] - 47s 235ms/step - loss: 1.3816 - accuracy: 0.5142 - val_loss: 1.4040 - val_accuracy: 0.5328\n",
      "Epoch 3/30\n",
      "198/198 [==============================] - 46s 232ms/step - loss: 1.3803 - accuracy: 0.5009 - val_loss: 1.3982 - val_accuracy: 0.5354\n",
      "Epoch 4/30\n",
      "198/198 [==============================] - 46s 233ms/step - loss: 1.3719 - accuracy: 0.5294 - val_loss: 1.3915 - val_accuracy: 0.5354\n",
      "Epoch 5/30\n",
      "198/198 [==============================] - 46s 234ms/step - loss: 1.3683 - accuracy: 0.5174 - val_loss: 1.3858 - val_accuracy: 0.5379\n",
      "Epoch 6/30\n",
      "198/198 [==============================] - 46s 234ms/step - loss: 1.3539 - accuracy: 0.5294 - val_loss: 1.3797 - val_accuracy: 0.5379\n",
      "Epoch 7/30\n",
      "198/198 [==============================] - 46s 235ms/step - loss: 1.3476 - accuracy: 0.5287 - val_loss: 1.3741 - val_accuracy: 0.5429\n",
      "Epoch 8/30\n",
      "198/198 [==============================] - 46s 234ms/step - loss: 1.3311 - accuracy: 0.5332 - val_loss: 1.3687 - val_accuracy: 0.5480\n",
      "Epoch 9/30\n",
      "198/198 [==============================] - 46s 234ms/step - loss: 1.3279 - accuracy: 0.5363 - val_loss: 1.3636 - val_accuracy: 0.5480\n",
      "Epoch 10/30\n",
      "198/198 [==============================] - 46s 235ms/step - loss: 1.3079 - accuracy: 0.5502 - val_loss: 1.3592 - val_accuracy: 0.5480\n",
      "Epoch 11/30\n",
      "198/198 [==============================] - 47s 236ms/step - loss: 1.3219 - accuracy: 0.5389 - val_loss: 1.3536 - val_accuracy: 0.5429\n",
      "Epoch 12/30\n",
      "198/198 [==============================] - 46s 235ms/step - loss: 1.2990 - accuracy: 0.5559 - val_loss: 1.3493 - val_accuracy: 0.5455\n",
      "Epoch 13/30\n",
      "198/198 [==============================] - 46s 235ms/step - loss: 1.3027 - accuracy: 0.5591 - val_loss: 1.3443 - val_accuracy: 0.5429\n",
      "Epoch 14/30\n",
      "198/198 [==============================] - 46s 235ms/step - loss: 1.2961 - accuracy: 0.5597 - val_loss: 1.3398 - val_accuracy: 0.5429\n",
      "Epoch 15/30\n",
      "198/198 [==============================] - 46s 235ms/step - loss: 1.2824 - accuracy: 0.5591 - val_loss: 1.3356 - val_accuracy: 0.5404\n",
      "Epoch 16/30\n",
      "198/198 [==============================] - 46s 235ms/step - loss: 1.2832 - accuracy: 0.5648 - val_loss: 1.3318 - val_accuracy: 0.5354\n",
      "Epoch 17/30\n",
      "198/198 [==============================] - 46s 235ms/step - loss: 1.2745 - accuracy: 0.5685 - val_loss: 1.3276 - val_accuracy: 0.5429\n",
      "Epoch 18/30\n",
      "198/198 [==============================] - 46s 235ms/step - loss: 1.2741 - accuracy: 0.5629 - val_loss: 1.3232 - val_accuracy: 0.5404\n",
      "Epoch 19/30\n",
      "198/198 [==============================] - 46s 235ms/step - loss: 1.2577 - accuracy: 0.5711 - val_loss: 1.3198 - val_accuracy: 0.5429\n",
      "Epoch 20/30\n",
      "198/198 [==============================] - 47s 235ms/step - loss: 1.2665 - accuracy: 0.5591 - val_loss: 1.3162 - val_accuracy: 0.5354\n",
      "Epoch 21/30\n",
      "198/198 [==============================] - 47s 235ms/step - loss: 1.2589 - accuracy: 0.5616 - val_loss: 1.3120 - val_accuracy: 0.5404\n",
      "Epoch 22/30\n",
      "198/198 [==============================] - 47s 236ms/step - loss: 1.2479 - accuracy: 0.5723 - val_loss: 1.3087 - val_accuracy: 0.5404\n",
      "Epoch 23/30\n",
      "198/198 [==============================] - 47s 236ms/step - loss: 1.2492 - accuracy: 0.5698 - val_loss: 1.3045 - val_accuracy: 0.5354\n",
      "Epoch 24/30\n",
      "198/198 [==============================] - 47s 236ms/step - loss: 1.2349 - accuracy: 0.5850 - val_loss: 1.3019 - val_accuracy: 0.5379\n",
      "Epoch 25/30\n",
      "198/198 [==============================] - 47s 236ms/step - loss: 1.2331 - accuracy: 0.5932 - val_loss: 1.2985 - val_accuracy: 0.5379\n",
      "Epoch 26/30\n",
      "198/198 [==============================] - 47s 236ms/step - loss: 1.2432 - accuracy: 0.5742 - val_loss: 1.2951 - val_accuracy: 0.5354\n",
      "Epoch 27/30\n",
      "198/198 [==============================] - 47s 235ms/step - loss: 1.2303 - accuracy: 0.5786 - val_loss: 1.2922 - val_accuracy: 0.5354\n",
      "Epoch 28/30\n",
      "198/198 [==============================] - 47s 236ms/step - loss: 1.2192 - accuracy: 0.5818 - val_loss: 1.2899 - val_accuracy: 0.5354\n",
      "Epoch 29/30\n",
      "198/198 [==============================] - 47s 235ms/step - loss: 1.2218 - accuracy: 0.5913 - val_loss: 1.2879 - val_accuracy: 0.5379\n",
      "Epoch 30/30\n",
      "198/198 [==============================] - 47s 235ms/step - loss: 1.2244 - accuracy: 0.5780 - val_loss: 1.2848 - val_accuracy: 0.5379\n"
     ]
    }
   ],
   "source": [
    "history = trasfer_model.fit(\n",
    "    X_train, y_train,\n",
    "    batch_size=8,\n",
    "    epochs=30,\n",
    "    validation_data=(X_test,y_test)\n",
    "    )"
   ]
  },
  {
   "cell_type": "code",
   "execution_count": null,
   "id": "94f27d61",
   "metadata": {
    "id": "whjXXToVR04V"
   },
   "outputs": [],
   "source": [
    "trasfer_model.save('tran_video_model.h5')"
   ]
  },
  {
   "cell_type": "code",
   "execution_count": null,
   "id": "816ace6d",
   "metadata": {
    "colab": {
     "base_uri": "https://localhost:8080/",
     "height": 299
    },
    "id": "jCpFST31SNEm",
    "outputId": "edf230b9-a408-4cc6-85b6-a63d4dad10a7"
   },
   "outputs": [
    {
     "data": {
      "image/png": "[encoded data removed]",
      "text/plain": [
       "<Figure size 432x288 with 1 Axes>"
      ]
     },
     "metadata": {
      "tags": []
     },
     "output_type": "display_data"
    }
   ],
   "source": [
    "plot_training_loss(history)"
   ]
  },
  {
   "cell_type": "code",
   "execution_count": null,
   "id": "d720b4cd",
   "metadata": {
    "colab": {
     "base_uri": "https://localhost:8080/",
     "height": 299
    },
    "id": "oYkPvrJNQsy1",
    "outputId": "023e90b1-5953-41b4-dade-ecc932bbc025"
   },
   "outputs": [
    {
     "data": {
      "image/png": "[encoded data removed]",
      "text/plain": [
       "<Figure size 432x288 with 1 Axes>"
      ]
     },
     "metadata": {
      "tags": []
     },
     "output_type": "display_data"
    }
   ],
   "source": [
    "plot_training_acc(history)"
   ]
  },
  {
   "cell_type": "code",
   "execution_count": null,
   "id": "4f0e95bb",
   "metadata": {
    "id": "j3GqTKXYSCKw"
   },
   "outputs": [],
   "source": []
  }
 ],
 "metadata": {
  "accelerator": "GPU",
  "colab": {
   "collapsed_sections": [],
   "machine_shape": "hm",
   "name": "transfer learning for video.ipynb",
   "provenance": []
  },
  "kernelspec": {
   "display_name": "Python 3",
   "language": "python",
   "name": "python3"
  },
  "language_info": {
   "codemirror_mode": {
    "name": "ipython",
    "version": 3
   },
   "file_extension": ".py",
   "mimetype": "text/x-python",
   "name": "python",
   "nbconvert_exporter": "python",
   "pygments_lexer": "ipython3",
   "version": "3.8.8"
  }
 },
 "nbformat": 4,
 "nbformat_minor": 5
}
